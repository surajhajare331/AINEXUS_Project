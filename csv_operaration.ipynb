{
 "cells": [
  {
   "cell_type": "code",
   "execution_count": null,
   "id": "a2901e06-a863-4173-b4d0-0aa9f2170d5f",
   "metadata": {},
   "outputs": [],
   "source": [
    "CSV : \n",
    "Comma Separated Values:\n",
    "why CSV vs Excel ?\n",
    "SQL Data -- CSV --> DB "
   ]
  },
  {
   "cell_type": "code",
   "execution_count": null,
   "id": "6b9a553a-e1ed-4698-bb46-0e8d0fbe5909",
   "metadata": {},
   "outputs": [],
   "source": [
    "Memory -- 10Mil  \n",
    "\n",
    "CSV - lightweight\n",
    "\n",
    "Excel -  More Memory than CSV/JSON"
   ]
  },
  {
   "cell_type": "code",
   "execution_count": null,
   "id": "d9fc59c1-3fda-43fb-9093-12baeb2b8630",
   "metadata": {},
   "outputs": [],
   "source": [
    "1.normal approach"
   ]
  },
  {
   "cell_type": "code",
   "execution_count": 1,
   "id": "48e7f7be-1366-4cf5-9091-1d87def8d1a2",
   "metadata": {},
   "outputs": [
    {
     "name": "stdout",
     "output_type": "stream",
     "text": [
      "empid,empname,empsal\n",
      "101,keshav,464646\n",
      "102,tushar,5756757\n",
      "103,anup,6546\n",
      "104,rakesh,765756\n"
     ]
    }
   ],
   "source": [
    "with open(\"emp.csv\") as fp:\n",
    "    data = fp.read()\n",
    "    print(data)"
   ]
  },
  {
   "cell_type": "code",
   "execution_count": null,
   "id": "5112b461-97af-4301-a423-40fd076f21a9",
   "metadata": {},
   "outputs": [],
   "source": [
    "2.By using CSV modules"
   ]
  },
  {
   "cell_type": "code",
   "execution_count": null,
   "id": "61e13efc-a33c-4088-b896-5f40efab2a93",
   "metadata": {},
   "outputs": [],
   "source": [
    "mkodules pre defined --> code --> Python Comminity\n",
    "use\n",
    "CSV - predefined modules "
   ]
  },
  {
   "cell_type": "code",
   "execution_count": 3,
   "id": "b2e8ae3f-e966-4eb0-b887-2937597f63ac",
   "metadata": {},
   "outputs": [],
   "source": [
    "import csv"
   ]
  },
  {
   "cell_type": "code",
   "execution_count": 25,
   "id": "5229ec91-e47f-4955-b47f-19175eb9431b",
   "metadata": {},
   "outputs": [
    {
     "name": "stdout",
     "output_type": "stream",
     "text": [
      "['empid', 'empname', 'empsal']\n",
      "['101', 'keshav', '464646']\n",
      "['102', 'tushar', '5756757']\n",
      "['103', 'anup', '6546']\n",
      "['104', 'rakesh', '765756']\n"
     ]
    }
   ],
   "source": [
    "with open(\"emp.csv\") as fp:\n",
    "    r = csv.reader(fp)\n",
    "    for i in r:\n",
    "        print(i)"
   ]
  },
  {
   "cell_type": "code",
   "execution_count": null,
   "id": "6ebb8c41-c7e0-4843-9ff3-a7f80085cfa6",
   "metadata": {},
   "outputs": [],
   "source": [
    "DictReader --> CSV data- Dict format"
   ]
  },
  {
   "cell_type": "code",
   "execution_count": 13,
   "id": "4fe0a8ff-148a-48d1-81f9-5c888d1f069f",
   "metadata": {},
   "outputs": [],
   "source": [
    "import csv"
   ]
  },
  {
   "cell_type": "code",
   "execution_count": 15,
   "id": "9127ad18-2461-4386-8afe-b4ea798ba8b9",
   "metadata": {},
   "outputs": [
    {
     "name": "stdout",
     "output_type": "stream",
     "text": [
      "{'empid': '101', 'empname': 'keshav', 'empsal': '464646'}\n",
      "{'empid': '102', 'empname': 'tushar', 'empsal': '5756757'}\n",
      "{'empid': '103', 'empname': 'anup', 'empsal': '6546'}\n",
      "{'empid': '104', 'empname': 'rakesh', 'empsal': '765756'}\n"
     ]
    }
   ],
   "source": [
    "with open(\"emp.csv\") as fp:\n",
    "    r = csv.DictReader(fp)\n",
    "    for i in r:\n",
    "        print(i)"
   ]
  },
  {
   "cell_type": "code",
   "execution_count": 19,
   "id": "f959073e-162b-44d9-99ba-1fffdb3450ef",
   "metadata": {},
   "outputs": [],
   "source": [
    "import pandas as pd"
   ]
  },
  {
   "cell_type": "code",
   "execution_count": 21,
   "id": "6371be86-6367-4464-bf8a-db3d6148306e",
   "metadata": {},
   "outputs": [],
   "source": [
    "df = pd.read_csv(\"emp.csv\")"
   ]
  },
  {
   "cell_type": "code",
   "execution_count": 23,
   "id": "4e76c49e-9477-4973-b5c0-d7ec07305faa",
   "metadata": {},
   "outputs": [
    {
     "data": {
      "text/html": [
       "<div>\n",
       "<style scoped>\n",
       "    .dataframe tbody tr th:only-of-type {\n",
       "        vertical-align: middle;\n",
       "    }\n",
       "\n",
       "    .dataframe tbody tr th {\n",
       "        vertical-align: top;\n",
       "    }\n",
       "\n",
       "    .dataframe thead th {\n",
       "        text-align: right;\n",
       "    }\n",
       "</style>\n",
       "<table border=\"1\" class=\"dataframe\">\n",
       "  <thead>\n",
       "    <tr style=\"text-align: right;\">\n",
       "      <th></th>\n",
       "      <th>empid</th>\n",
       "      <th>empname</th>\n",
       "      <th>empsal</th>\n",
       "    </tr>\n",
       "  </thead>\n",
       "  <tbody>\n",
       "    <tr>\n",
       "      <th>0</th>\n",
       "      <td>101</td>\n",
       "      <td>keshav</td>\n",
       "      <td>464646</td>\n",
       "    </tr>\n",
       "    <tr>\n",
       "      <th>1</th>\n",
       "      <td>102</td>\n",
       "      <td>tushar</td>\n",
       "      <td>5756757</td>\n",
       "    </tr>\n",
       "    <tr>\n",
       "      <th>2</th>\n",
       "      <td>103</td>\n",
       "      <td>anup</td>\n",
       "      <td>6546</td>\n",
       "    </tr>\n",
       "    <tr>\n",
       "      <th>3</th>\n",
       "      <td>104</td>\n",
       "      <td>rakesh</td>\n",
       "      <td>765756</td>\n",
       "    </tr>\n",
       "  </tbody>\n",
       "</table>\n",
       "</div>"
      ],
      "text/plain": [
       "   empid empname   empsal\n",
       "0    101  keshav   464646\n",
       "1    102  tushar  5756757\n",
       "2    103    anup     6546\n",
       "3    104  rakesh   765756"
      ]
     },
     "execution_count": 23,
     "metadata": {},
     "output_type": "execute_result"
    }
   ],
   "source": [
    "df"
   ]
  },
  {
   "cell_type": "code",
   "execution_count": null,
   "id": "a466b29e-d7a1-454d-bd54-38a78f536176",
   "metadata": {},
   "outputs": [],
   "source": [
    "Write CSV "
   ]
  },
  {
   "cell_type": "code",
   "execution_count": 27,
   "id": "8d5fb755-3aa5-48c7-93cf-5dc595c787eb",
   "metadata": {},
   "outputs": [
    {
     "name": "stdout",
     "output_type": "stream",
     "text": [
      "csv file write successfully\n"
     ]
    }
   ],
   "source": [
    "import csv\n",
    "with open(\"product.csv\",\"w\",newline='') as fp:\n",
    "    w = csv.writer(fp)\n",
    "    w.writerow(['prdid','prdname','prdprice'])\n",
    "    w.writerow([101,'copper',53545])\n",
    "    w.writerow([102,'silver',5464])\n",
    "print(\"csv file write successfully\")\n",
    "    "
   ]
  },
  {
   "cell_type": "code",
   "execution_count": 33,
   "id": "da7a588b-c337-457a-bd5a-c92fb9a05feb",
   "metadata": {},
   "outputs": [
    {
     "name": "stdout",
     "output_type": "stream",
     "text": [
      "csv file write successfully\n"
     ]
    }
   ],
   "source": [
    "import csv\n",
    "with open(\"product.csv\",\"w\",newline='') as fp:\n",
    "    w = csv.writer(fp)\n",
    "    w.writerows([['prdid','prdname','prdprice'],[501,'iron',5454],[502,'al',654]])\n",
    "    \n",
    "print(\"csv file write successfully\")"
   ]
  },
  {
   "cell_type": "code",
   "execution_count": null,
   "id": "7029f4cc-2417-47f4-9567-a7e9f1bcc89a",
   "metadata": {},
   "outputs": [],
   "source": [
    "CSV - read ---\n",
    "\n",
    "normal\n",
    "reader\n",
    "writer\n",
    "DictReader\n",
    "DictWriter"
   ]
  },
  {
   "cell_type": "code",
   "execution_count": null,
   "id": "621f72f9-1830-494e-8408-d26e0bc37ce3",
   "metadata": {},
   "outputs": [],
   "source": []
  },
  {
   "cell_type": "code",
   "execution_count": null,
   "id": "826dea4e-04dd-4667-8aaf-89fffc00fb08",
   "metadata": {},
   "outputs": [],
   "source": [
    "Database ---> customer -- > "
   ]
  },
  {
   "cell_type": "code",
   "execution_count": null,
   "id": "056a98d2-0054-4162-97c2-bde76f98ef3a",
   "metadata": {},
   "outputs": [],
   "source": [
    "CustomerDetails.csv\n",
    "\n",
    "customerid ,custname,custmorcity,sub\n",
    "1313,'keshav','pune',BHFL\n",
    "43434,'Tushar','Mumbai',BL\n",
    "5353,'Sonali','Banglore',BDL\n"
   ]
  },
  {
   "cell_type": "code",
   "execution_count": null,
   "id": "98ef076a-8852-49f7-bec6-6a78dbaa6397",
   "metadata": {},
   "outputs": [],
   "source": [
    "Customer_BHFL.csv\n",
    "Customer_BDL.csv\n",
    "Customer_BL.csv"
   ]
  },
  {
   "cell_type": "code",
   "execution_count": null,
   "id": "b1520c3d-a870-487d-92b4-6958cc9903ab",
   "metadata": {},
   "outputs": [],
   "source": [
    "Functional Approach\n",
    "JOB - Database -- > read -- Cat --  Files\n"
   ]
  },
  {
   "cell_type": "code",
   "execution_count": 45,
   "id": "0c371435-d286-4325-b1a1-2b87565c89b0",
   "metadata": {},
   "outputs": [
    {
     "name": "stdout",
     "output_type": "stream",
     "text": [
      "All files writtin successfully\n"
     ]
    }
   ],
   "source": [
    "import csv\n",
    "\n",
    "header = ['customerid' ,'custname','custmorcity','sub']\n",
    "\n",
    "def customer_files_write(filename,lines):\n",
    "    with open(filename,\"w\") as fp:\n",
    "        w = csv.writer(fp)\n",
    "        w.writerow(header)\n",
    "        w.writerows(lines)\n",
    "\n",
    "def file_read(filename):\n",
    "    bhfl = []\n",
    "    bl = []\n",
    "    bdl = []\n",
    "    with open(filename) as fp:\n",
    "        r = csv.reader(fp)\n",
    "        for row in r:\n",
    "            if row[-1].lower() =='bhfl':\n",
    "                bhfl.append(row)\n",
    "            elif row[-1].lower()=='bl':\n",
    "                bl.append(row)\n",
    "            elif row[-1].lower()=='bdl':\n",
    "                bdl.append(row)\n",
    "    \n",
    "    return bhfl,bl,bdl\n",
    "\n",
    "def main():\n",
    "    filename = 'customer.csv'\n",
    "    bhfl_filename = \"customer_bhfl.csv\"\n",
    "    bdl_filename = \"customer_bdl.csv\"\n",
    "    bl_filename = \"customer_bl.csv\"\n",
    "    bhfl_lines,bl_lines,bdl_lines = file_read(filename)\n",
    "    customer_files_write(bhfl_filename,bhfl_lines)\n",
    "    customer_files_write(bdl_filename,bdl_lines)\n",
    "    customer_files_write(bl_filename,bl_lines)\n",
    "    print(\"All files writtin successfully\")\n",
    "        \n",
    "if __name__=='__main__':\n",
    "    main()"
   ]
  },
  {
   "cell_type": "code",
   "execution_count": null,
   "id": "8733fdf4-21c7-4d9f-8587-1a4031971aee",
   "metadata": {},
   "outputs": [],
   "source": [
    "csv | text |  JSON"
   ]
  },
  {
   "cell_type": "code",
   "execution_count": null,
   "id": "621b4ba9-a62d-4fa6-a2b4-849eaa2bd279",
   "metadata": {},
   "outputs": [],
   "source": [
    "JSON :  Java Script Object Notation"
   ]
  },
  {
   "cell_type": "code",
   "execution_count": null,
   "id": "6c39e891-b1ce-46ee-bbf6-37e69bf526fb",
   "metadata": {},
   "outputs": [],
   "source": [
    "JSON :  "
   ]
  },
  {
   "cell_type": "code",
   "execution_count": null,
   "id": "0a142f97-cad7-468e-a7d6-90cb6654c7c6",
   "metadata": {},
   "outputs": [],
   "source": [
    "Application-1     Applicartion-2"
   ]
  },
  {
   "cell_type": "code",
   "execution_count": null,
   "id": "63ecb04c-204b-4c66-aa68-e2acdc3c669d",
   "metadata": {},
   "outputs": [],
   "source": [
    "JSON"
   ]
  },
  {
   "cell_type": "code",
   "execution_count": null,
   "id": "16c16af0-27d1-4923-91db-47932017c8be",
   "metadata": {},
   "outputs": [],
   "source": [
    "Python      Java Script\n",
    "\n",
    "list    --  array\n",
    "dict    --- json\n",
    "None  -- null\n",
    "True -- true\n",
    "False  -- false"
   ]
  },
  {
   "cell_type": "code",
   "execution_count": null,
   "id": "c295d27c-ebcd-4630-bc2a-916ece91c39e",
   "metadata": {},
   "outputs": [],
   "source": []
  },
  {
   "cell_type": "code",
   "execution_count": null,
   "id": "3c125db2-d8aa-4d83-ae11-e2938f4c6cbc",
   "metadata": {},
   "outputs": [],
   "source": []
  }
 ],
 "metadata": {
  "kernelspec": {
   "display_name": "Python 3 (ipykernel)",
   "language": "python",
   "name": "python3"
  },
  "language_info": {
   "codemirror_mode": {
    "name": "ipython",
    "version": 3
   },
   "file_extension": ".py",
   "mimetype": "text/x-python",
   "name": "python",
   "nbconvert_exporter": "python",
   "pygments_lexer": "ipython3",
   "version": "3.12.4"
  }
 },
 "nbformat": 4,
 "nbformat_minor": 5
}
