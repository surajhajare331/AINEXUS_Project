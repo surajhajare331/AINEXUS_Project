{
 "cells": [
  {
   "cell_type": "code",
   "execution_count": 1,
   "id": "42c924a6-df97-4572-8c5f-ea850980013d",
   "metadata": {},
   "outputs": [
    {
     "name": "stdout",
     "output_type": "stream",
     "text": [
      "Hi\n",
      "Welcome\n",
      "Bye\n"
     ]
    }
   ],
   "source": [
    "print(\"Hi\")\n",
    "print(\"Welcome\")\n",
    "print(\"Bye\")"
   ]
  },
  {
   "cell_type": "code",
   "execution_count": null,
   "id": "fc309158-041b-45cb-a662-c01c133ceea8",
   "metadata": {},
   "outputs": [],
   "source": [
    "Flow control statements\n",
    "1.simple if\n",
    "2.if -else \n",
    "3.if-else ladder\n",
    "4.nested if -else"
   ]
  },
  {
   "cell_type": "code",
   "execution_count": null,
   "id": "4a905a63-a4b7-49e7-b7a2-56039ae1f7d3",
   "metadata": {},
   "outputs": [],
   "source": [
    "simple if :\n",
    "when we have single condition [one condition]"
   ]
  },
  {
   "cell_type": "code",
   "execution_count": null,
   "id": "63f0ccfc-2d22-4a6f-ac18-424246f5512d",
   "metadata": {},
   "outputs": [],
   "source": [
    "if condition:\n",
    "    body"
   ]
  },
  {
   "cell_type": "code",
   "execution_count": null,
   "id": "2b3ed48f-1170-49cf-8829-97f0a4c9b20c",
   "metadata": {},
   "outputs": [],
   "source": [
    "c/c++/Java"
   ]
  },
  {
   "cell_type": "code",
   "execution_count": null,
   "id": "a8223483-e5be-41fb-a229-1d13e0371fe6",
   "metadata": {},
   "outputs": [],
   "source": [
    "if condition\n",
    "{\n",
    "safsgsfasgsgsdsd\n",
    "asfsdgsdgsgsdsdgg\n",
    "asfsgsdgsdgsgsagsg\n",
    "\n",
    "}"
   ]
  },
  {
   "cell_type": "code",
   "execution_count": null,
   "id": "1a7761f8-fb78-4111-be09-4cbe6d6b5b89",
   "metadata": {},
   "outputs": [],
   "source": [
    "if condition:\n",
    "    \n",
    "    sdfsdsdgsdgdsg\n",
    "    dsgsdgsdgdsgsdg\n",
    "    sdgsdgsdgsgsdGSD\n",
    "sfsdgsdgsg"
   ]
  },
  {
   "cell_type": "code",
   "execution_count": null,
   "id": "32b3e706-c87f-4a94-afae-9cac06d9a149",
   "metadata": {},
   "outputs": [],
   "source": [
    "print(\"Hi\")\n",
    "if condition: True /False\n",
    "    print(\"1\")\n",
    "    print(\"2\")\n",
    "print(\"3\")\n",
    "print(\"4\")\n",
    "asfsaf\n",
    "sa\n",
    "saf\n",
    "s\n",
    "a\n",
    "asf"
   ]
  },
  {
   "cell_type": "code",
   "execution_count": 5,
   "id": "626481ef-334b-4e86-a51a-ecb16961b17b",
   "metadata": {},
   "outputs": [
    {
     "name": "stdout",
     "output_type": "stream",
     "text": [
      "vote Eligiblity Test\n"
     ]
    },
    {
     "name": "stdin",
     "output_type": "stream",
     "text": [
      "Enter Your Age: 10\n"
     ]
    },
    {
     "name": "stdout",
     "output_type": "stream",
     "text": [
      "Thanks for checking\n",
      "rest of code\n"
     ]
    }
   ],
   "source": [
    "print(\"vote Eligiblity Test\")\n",
    "age = int(input(\"Enter Your Age:\"))\n",
    "if age>=18:\n",
    "    print(\"You are eligible for Voting\")\n",
    "print(\"Thanks for checking\")\n",
    "print(\"rest of code\")"
   ]
  },
  {
   "cell_type": "code",
   "execution_count": 9,
   "id": "ce8ba0bc-8df1-44bb-af76-3bb603faa4d9",
   "metadata": {},
   "outputs": [
    {
     "name": "stdin",
     "output_type": "stream",
     "text": [
      "Enter the filename: test.xlsx\n"
     ]
    },
    {
     "name": "stdout",
     "output_type": "stream",
     "text": [
      "thanks for checking\n"
     ]
    }
   ],
   "source": [
    "filename = input(\"Enter the filename:\")\n",
    "if filename.endswith('.pdf'):\n",
    "    print(\"Valid pdf ..processing:\")\n",
    "print(\"thanks for checking\")"
   ]
  },
  {
   "cell_type": "code",
   "execution_count": null,
   "id": "a5394080-ccb1-434a-b13d-1d72054ec644",
   "metadata": {},
   "outputs": [],
   "source": [
    "2.if-else \n",
    "when we have two condition which is complelty opposite\n",
    "\n",
    "\n",
    "note : if and else never execute at the same time"
   ]
  },
  {
   "cell_type": "code",
   "execution_count": null,
   "id": "74b04b9b-f280-4d62-9068-7b27a659c16a",
   "metadata": {},
   "outputs": [],
   "source": [
    "if condition: True/ False\n",
    "    body\n",
    "else:\n",
    "    body"
   ]
  },
  {
   "cell_type": "code",
   "execution_count": null,
   "id": "e257f2be-357b-43c0-afec-5e608cdf4ef4",
   "metadata": {},
   "outputs": [],
   "source": [
    "Python program to check weather number is even or Odd\n"
   ]
  },
  {
   "cell_type": "code",
   "execution_count": 15,
   "id": "9a201bf6-6063-43cb-a961-df1169b70e57",
   "metadata": {},
   "outputs": [
    {
     "name": "stdout",
     "output_type": "stream",
     "text": [
      "Program to check EVEN or ODD\n"
     ]
    },
    {
     "name": "stdin",
     "output_type": "stream",
     "text": [
      "Enter the number : 111\n"
     ]
    },
    {
     "name": "stdout",
     "output_type": "stream",
     "text": [
      "Number is Odd\n",
      "Thanks\n"
     ]
    }
   ],
   "source": [
    "print(\"Program to check EVEN or ODD\")\n",
    "no = int(input(\"Enter the number :\"))\n",
    "if no%2==0:\n",
    "    print(\"Number is even\")\n",
    "else:\n",
    "    print(\"Number is Odd\")\n",
    "print(\"Thanks\")"
   ]
  },
  {
   "cell_type": "code",
   "execution_count": 19,
   "id": "0758e304-9f32-4c0a-af4d-62d3a2ca4066",
   "metadata": {},
   "outputs": [
    {
     "name": "stdout",
     "output_type": "stream",
     "text": [
      "1\n",
      "2\n",
      "5\n",
      "6\n",
      "7\n",
      "8\n"
     ]
    }
   ],
   "source": [
    "print(\"1\")\n",
    "print(\"2\")\n",
    "a = 10\n",
    "if a>50:\n",
    "    print(\"3\")\n",
    "    print(\"4\")\n",
    "else:\n",
    "    print(\"5\")\n",
    "    print(\"6\")\n",
    "print(\"7\")\n",
    "print(\"8\")"
   ]
  },
  {
   "cell_type": "code",
   "execution_count": null,
   "id": "ddb160d2-2c6c-4d12-b437-611552711533",
   "metadata": {},
   "outputs": [],
   "source": [
    "more than two condition\n",
    "if -else ladder"
   ]
  },
  {
   "cell_type": "code",
   "execution_count": null,
   "id": "fa5ce47d-9c7e-4804-8b92-963be210cd15",
   "metadata": {},
   "outputs": [],
   "source": [
    "if condition1:\n",
    "    body-1\n",
    "elif condition-2:\n",
    "    body-2\n",
    "elif condition-3:\n",
    "    body-3\n",
    "elif condition-4:\n",
    "    body-4\n",
    "    |\n",
    "    |\n",
    "elif condition-n:\n",
    "    body-n\n",
    "else:\n",
    "    defualt condition"
   ]
  },
  {
   "cell_type": "code",
   "execution_count": null,
   "id": "d4ac82ed-1aae-4c87-8fc5-bde98e0ab793",
   "metadata": {},
   "outputs": [],
   "source": [
    "file \n",
    "\n",
    "pdf\n",
    "xlsx\n",
    "csv\n"
   ]
  },
  {
   "cell_type": "code",
   "execution_count": 25,
   "id": "b3959a1b-caa3-4658-bd2b-82667458b4b2",
   "metadata": {},
   "outputs": [
    {
     "name": "stdin",
     "output_type": "stream",
     "text": [
      "Enter the filename: test.xlsx\n"
     ]
    },
    {
     "name": "stdout",
     "output_type": "stream",
     "text": [
      "Processing excel file \n"
     ]
    }
   ],
   "source": [
    "filename = input(\"Enter the filename:\")\n",
    "if filename.endswith(\".pdf\"):\n",
    "    print(\"Processing pdf file\")\n",
    "elif filename.endswith(\".xlsx\"):\n",
    "    print(\"Processing excel file \")\n",
    "elif filename.endswith(\".csv\"):\n",
    "    print(\"Processing csv file\")\n",
    "else:\n",
    "    print(\"invalid file format\")"
   ]
  },
  {
   "cell_type": "code",
   "execution_count": null,
   "id": "0df06879-3039-4f2e-bc09-5683da0a5cbe",
   "metadata": {},
   "outputs": [],
   "source": [
    "Assigment:\n",
    "email-  gmail -- block\n",
    "    yahoo- block\n",
    "    rediffmail -- block"
   ]
  },
  {
   "cell_type": "code",
   "execution_count": null,
   "id": "2c10eee9-b72b-46b7-8ccf-11060288ef2f",
   "metadata": {},
   "outputs": [],
   "source": [
    "nested if -else :\n",
    "when we have dependent condition"
   ]
  },
  {
   "cell_type": "code",
   "execution_count": null,
   "id": "9cd62c01-3af2-4fb3-951d-abe2750ab805",
   "metadata": {},
   "outputs": [],
   "source": [
    "if condition:\n",
    "    if condition:\n",
    "        block\n",
    "    else:\n",
    "        block\n",
    "else:\n",
    "    if condition:\n",
    "        block\n",
    "    else:\n",
    "        block"
   ]
  },
  {
   "cell_type": "code",
   "execution_count": null,
   "id": "06140cef-67cc-4daf-a0a4-50b7e003d388",
   "metadata": {},
   "outputs": [],
   "source": [
    "filename \n",
    "\n",
    "copper start \n",
    "\n",
    "ends -pdf\n",
    " year 2024"
   ]
  },
  {
   "cell_type": "code",
   "execution_count": null,
   "id": "644a132b-fc4c-4f5b-ae7e-24cc2968cb73",
   "metadata": {},
   "outputs": [],
   "source": [
    "if state=='MH':\n",
    "    if city=='pune':\n",
    "        pincode\n",
    "    elif city=='mumbai':\n",
    "        pincode\n",
    "    elif city=='kolhapur':\n",
    "        pincode\n",
    "    else:\n",
    "         invalid\n",
    "elif state=='Gujrat':\n",
    "    "
   ]
  }
 ],
 "metadata": {
  "kernelspec": {
   "display_name": "Python 3 (ipykernel)",
   "language": "python",
   "name": "python3"
  },
  "language_info": {
   "codemirror_mode": {
    "name": "ipython",
    "version": 3
   },
   "file_extension": ".py",
   "mimetype": "text/x-python",
   "name": "python",
   "nbconvert_exporter": "python",
   "pygments_lexer": "ipython3",
   "version": "3.12.4"
  }
 },
 "nbformat": 4,
 "nbformat_minor": 5
}
