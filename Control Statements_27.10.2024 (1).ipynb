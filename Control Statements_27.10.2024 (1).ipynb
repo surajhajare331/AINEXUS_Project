{
 "cells": [
  {
   "cell_type": "code",
   "execution_count": null,
   "id": "145d8471",
   "metadata": {},
   "outputs": [],
   "source": [
    "1.simple if\n",
    "2.if -else\n",
    "3.if -else ladder\n",
    "4.nested if -else"
   ]
  },
  {
   "cell_type": "code",
   "execution_count": null,
   "id": "f09bfa5d",
   "metadata": {},
   "outputs": [],
   "source": [
    "simple if : when we have only one condition"
   ]
  },
  {
   "cell_type": "code",
   "execution_count": 3,
   "id": "5c8c512d",
   "metadata": {},
   "outputs": [
    {
     "name": "stdout",
     "output_type": "stream",
     "text": [
      "Hi\n"
     ]
    }
   ],
   "source": [
    "if False:\n",
    "    print(\"Hi\")"
   ]
  },
  {
   "cell_type": "code",
   "execution_count": null,
   "id": "e0364ddd",
   "metadata": {},
   "outputs": [],
   "source": [
    "empty list "
   ]
  },
  {
   "cell_type": "code",
   "execution_count": null,
   "id": "42921b07",
   "metadata": {},
   "outputs": [],
   "source": [
    "if-else #when we have two condition which is opposite"
   ]
  },
  {
   "cell_type": "code",
   "execution_count": null,
   "id": "38ea68a3",
   "metadata": {},
   "outputs": [],
   "source": [
    "if condition:\n",
    "    body\n",
    "else:\n",
    "    body"
   ]
  },
  {
   "cell_type": "code",
   "execution_count": 7,
   "id": "81ad631d",
   "metadata": {},
   "outputs": [],
   "source": [
    "prd = 'rtertgold543534534'"
   ]
  },
  {
   "cell_type": "code",
   "execution_count": 8,
   "id": "6cf329d8",
   "metadata": {},
   "outputs": [
    {
     "name": "stdout",
     "output_type": "stream",
     "text": [
      "Given Product is invalid : rtertgold543534534\n"
     ]
    }
   ],
   "source": [
    "if prd.startswith(\"gold\"):\n",
    "    print(\"Given Product is Valid : {}\".format(prd))\n",
    "else:\n",
    "    print(\"Given Product is invalid : {}\".format(prd))"
   ]
  },
  {
   "cell_type": "code",
   "execution_count": 9,
   "id": "5bc512db",
   "metadata": {},
   "outputs": [],
   "source": [
    "#if -else ladder"
   ]
  },
  {
   "cell_type": "code",
   "execution_count": null,
   "id": "85fe5e12",
   "metadata": {},
   "outputs": [],
   "source": [
    "more that two condition"
   ]
  },
  {
   "cell_type": "code",
   "execution_count": null,
   "id": "176a7ed2",
   "metadata": {},
   "outputs": [],
   "source": [
    "if condition1:\n",
    "    block1\n",
    "elif condition2:\n",
    "    block2\n",
    "elif condition3:\n",
    "    block3\n",
    "\n",
    "    \n",
    "elif condition-n:\n",
    "    block n\n",
    "\n",
    "else:\n",
    "    default block"
   ]
  },
  {
   "cell_type": "code",
   "execution_count": null,
   "id": "7d1b5f36",
   "metadata": {},
   "outputs": [],
   "source": [
    "file name checking -- csv pdf excel \n",
    "\n",
    "product \n",
    "\n",
    "copper\n",
    "\n",
    "\n",
    "gold\n",
    "\n",
    "\n",
    "silver\n"
   ]
  },
  {
   "cell_type": "code",
   "execution_count": null,
   "id": "a8e37f0b",
   "metadata": {},
   "outputs": [],
   "source": [
    "Nested if -else\n",
    "\n",
    "when we have dependent condition"
   ]
  },
  {
   "cell_type": "code",
   "execution_count": null,
   "id": "fdd8a9d7",
   "metadata": {},
   "outputs": [],
   "source": [
    "if condition1:\n",
    "    if condition2:\n",
    "        body\n",
    "    elif condition3:\n",
    "        body\n",
    "    else:\n",
    "        default\n",
    "else:\n",
    "    if condition4:\n",
    "        body\n",
    "    elif condition5:\n",
    "        body\n",
    "    else:\n",
    "        defualt\n",
    "        "
   ]
  },
  {
   "cell_type": "code",
   "execution_count": null,
   "id": "2195518e",
   "metadata": {},
   "outputs": [],
   "source": [
    "Production ready code\n",
    "\n",
    "ip address :\n",
    "    check"
   ]
  },
  {
   "cell_type": "code",
   "execution_count": null,
   "id": "babc1537",
   "metadata": {},
   "outputs": [],
   "source": [
    "IP Address:\n",
    "    "
   ]
  },
  {
   "cell_type": "code",
   "execution_count": 10,
   "id": "ef688bc6",
   "metadata": {},
   "outputs": [],
   "source": [
    "ip = '192.168.1.1'"
   ]
  },
  {
   "cell_type": "code",
   "execution_count": null,
   "id": "9c1cd19e",
   "metadata": {},
   "outputs": [],
   "source": [
    "Example try : except"
   ]
  },
  {
   "cell_type": "code",
   "execution_count": null,
   "id": "4f5df287",
   "metadata": {},
   "outputs": [],
   "source": [
    "loop statements:\n",
    "    if you iterate DS | iterable"
   ]
  },
  {
   "cell_type": "code",
   "execution_count": null,
   "id": "bc4ea760",
   "metadata": {},
   "outputs": [],
   "source": [
    "for loop\n",
    "while loop\n",
    "\n",
    "Note : do-while is not present"
   ]
  },
  {
   "cell_type": "code",
   "execution_count": null,
   "id": "b7d37987",
   "metadata": {},
   "outputs": [],
   "source": [
    "for loop Group of values iterate\n",
    "\n",
    "while -- condition based loop"
   ]
  },
  {
   "cell_type": "code",
   "execution_count": null,
   "id": "9dcf575c",
   "metadata": {},
   "outputs": [],
   "source": [
    "for loopvariable in DS|SEQ:\n",
    "    body"
   ]
  },
  {
   "cell_type": "code",
   "execution_count": 11,
   "id": "3f4ffaf6",
   "metadata": {},
   "outputs": [],
   "source": [
    "p = [54,786,34,7,563,47,634,5,73,45,7,435,7,546,576,46]"
   ]
  },
  {
   "cell_type": "code",
   "execution_count": 12,
   "id": "34a3d4ec",
   "metadata": {},
   "outputs": [
    {
     "name": "stdout",
     "output_type": "stream",
     "text": [
      "54\n",
      "786\n",
      "34\n",
      "7\n",
      "563\n",
      "47\n",
      "634\n",
      "5\n",
      "73\n",
      "45\n",
      "7\n",
      "435\n",
      "7\n",
      "546\n",
      "576\n",
      "46\n"
     ]
    }
   ],
   "source": [
    "for i in p:\n",
    "    print(i)"
   ]
  },
  {
   "cell_type": "code",
   "execution_count": 13,
   "id": "2b8f7af5",
   "metadata": {},
   "outputs": [],
   "source": [
    "p = '125.1594.1646.6616'"
   ]
  },
  {
   "cell_type": "code",
   "execution_count": 15,
   "id": "cbb941d9",
   "metadata": {},
   "outputs": [
    {
     "name": "stdout",
     "output_type": "stream",
     "text": [
      "125\n"
     ]
    }
   ],
   "source": [
    "for i in p.split('.'):\n",
    "    if int(i)>0 and int(i)<=255:\n",
    "        print(i)"
   ]
  },
  {
   "cell_type": "code",
   "execution_count": 32,
   "id": "7e33bad9",
   "metadata": {},
   "outputs": [],
   "source": [
    "p = 'AEIOUAWEFASDFERHRTHUJYRTEJHRTEJHsdaflkjnsdkjgbneoueeoosdkjgbnkasd fgasdlk;fgnasdkjlgndaskjngfdakjgnfdkjgnfasdkjgnasd;lgnad;gnadflk'"
   ]
  },
  {
   "cell_type": "code",
   "execution_count": null,
   "id": "e430ef56",
   "metadata": {},
   "outputs": [],
   "source": [
    "{'s':count,'d':count.........}"
   ]
  },
  {
   "cell_type": "code",
   "execution_count": 44,
   "id": "ae4a7201",
   "metadata": {},
   "outputs": [
    {
     "name": "stdout",
     "output_type": "stream",
     "text": [
      "{'a': 13, 'e': 8, 'i': 1, 'o': 4, 'u': 3}\n"
     ]
    }
   ],
   "source": [
    "char_count = {}\n",
    "for key in p:\n",
    "    if key.lower() in ['a','i','o','u','e']:        \n",
    "        if key.lower() in char_count:\n",
    "            char_count[key.lower()]+=1\n",
    "        else:\n",
    "            char_count[key.lower()]=1\n",
    "print(char_count)"
   ]
  },
  {
   "cell_type": "code",
   "execution_count": 29,
   "id": "6abd160b",
   "metadata": {},
   "outputs": [],
   "source": [
    "d = {}"
   ]
  },
  {
   "cell_type": "code",
   "execution_count": 24,
   "id": "362f12e1",
   "metadata": {},
   "outputs": [],
   "source": [
    "if 's' in d:\n",
    "    d['s']+=1\n",
    "else:\n",
    "    d['s']=1"
   ]
  },
  {
   "cell_type": "code",
   "execution_count": null,
   "id": "5418e322",
   "metadata": {},
   "outputs": [],
   "source": [
    "for "
   ]
  },
  {
   "cell_type": "code",
   "execution_count": 50,
   "id": "5ccaecfa",
   "metadata": {},
   "outputs": [],
   "source": [
    "p = \"\"\"\n",
    "Check your Internet speed in under 30 seconds. The speed test usually transfers less than 40 MB of \n",
    "data, but may 616464646transfer more data on fast connections.\n",
    "sdf;/lnmfasdlk6547654io6346oi346o34 u6u4069u46u435096u093456u054u609543u60954u60954u60\n",
    "To run the test, you'll be connected to Measurement Lab (M-Lab) and your \n",
    "IP address will be shared with them and processed by them in accordance with their \n",
    "privacy policy. M-Lab conducts the test and pub6534634643566546546546licly publishes all test results to \n",
    "promote Internet research.16161616 Published information includes your IP address and test results, \n",
    "but doesn’t include any other information about you as an Internet user.\n",
    "\n",
    "\"\"\""
   ]
  },
  {
   "cell_type": "code",
   "execution_count": 52,
   "id": "cd15a678",
   "metadata": {},
   "outputs": [],
   "source": [
    "# number count :\n",
    "#     total number : count\n",
    "# char count :\n",
    "#     total char : count"
   ]
  },
  {
   "cell_type": "code",
   "execution_count": null,
   "id": "f5c6b554",
   "metadata": {},
   "outputs": [],
   "source": [
    "while loop\n",
    "\n",
    "\n",
    "dir empty \n",
    "\n",
    "\n",
    "for finit  -- time \n"
   ]
  },
  {
   "cell_type": "code",
   "execution_count": 64,
   "id": "26149749",
   "metadata": {},
   "outputs": [],
   "source": [
    "batches = [['101,keshav,25000,Pune',12,43,12,43],['third',23,54,23,654,],['second',43,65,23,65,],['first',43,564,23,54,4]]"
   ]
  },
  {
   "cell_type": "code",
   "execution_count": 65,
   "id": "af579897",
   "metadata": {},
   "outputs": [
    {
     "name": "stdout",
     "output_type": "stream",
     "text": [
      "storing into db.['first', 43, 564, 23, 54, 4]\n",
      "storing into db.['second', 43, 65, 23, 65]\n",
      "storing into db.['third', 23, 54, 23, 654]\n",
      "storing into db.['101,keshav,25000,Pune', 12, 43, 12, 43]\n",
      "total records stored into DB : 21\n",
      "Total batches :  4\n"
     ]
    }
   ],
   "source": [
    "#batches = [['fourth',12,43,12,43],['third',23,54,23,654,],['second',43,65,23,65,],['first',43,564,23,54,4]]\n",
    "\n",
    "num_completed = 0\n",
    "batches_count = 0\n",
    "while batches:\n",
    "    batch = batches[-1]\n",
    "    print(\"storing into db.{}\".format(batch))\n",
    "    batches_count+=1\n",
    "    num_completed+=len(batch)\n",
    "    batches.pop()\n",
    "print(\"total records stored into DB :\",num_completed)\n",
    "print(\"Total batches : \",batches_count)"
   ]
  },
  {
   "cell_type": "code",
   "execution_count": 57,
   "id": "0ab49e43",
   "metadata": {},
   "outputs": [
    {
     "data": {
      "text/plain": [
       "[]"
      ]
     },
     "execution_count": 57,
     "metadata": {},
     "output_type": "execute_result"
    }
   ],
   "source": [
    "batches"
   ]
  },
  {
   "cell_type": "code",
   "execution_count": null,
   "id": "61e38e0d",
   "metadata": {},
   "outputs": [],
   "source": [
    "file/df/csv/excel\n",
    "\n",
    "read \n",
    "\n",
    "reocords  = [[r1],[r2],[r3]]"
   ]
  },
  {
   "cell_type": "code",
   "execution_count": null,
   "id": "64fd69ce",
   "metadata": {},
   "outputs": [],
   "source": []
  },
  {
   "cell_type": "code",
   "execution_count": null,
   "id": "e6689455",
   "metadata": {},
   "outputs": [],
   "source": []
  },
  {
   "cell_type": "code",
   "execution_count": null,
   "id": "03a2d0b9",
   "metadata": {},
   "outputs": [],
   "source": []
  }
 ],
 "metadata": {
  "kernelspec": {
   "display_name": "Python 3",
   "language": "python",
   "name": "python3"
  },
  "language_info": {
   "codemirror_mode": {
    "name": "ipython",
    "version": 3
   },
   "file_extension": ".py",
   "mimetype": "text/x-python",
   "name": "python",
   "nbconvert_exporter": "python",
   "pygments_lexer": "ipython3",
   "version": "3.8.8"
  }
 },
 "nbformat": 4,
 "nbformat_minor": 5
}
